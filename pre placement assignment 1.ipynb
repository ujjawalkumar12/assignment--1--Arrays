{
 "cells": [
  {
   "cell_type": "markdown",
   "id": "15e69437",
   "metadata": {},
   "source": [
    " **Q1.** Given an array of integers nums and an integer target, return indices of the two numbers such that they add up to target.\n",
    "\n",
    "You may assume that each input would have exactly one solution, and you may not use the same element twice.\n",
    "\n",
    "You can return the answer in any order.\n",
    "\n",
    "**Example:**\n",
    "Input: nums = [2,7,11,15], target = 9\n",
    "Output0 [0,1]\n",
    "\n",
    "**Explanation:** Because nums[0] + nums[1] == 9, we return [0, 1]["
   ]
  },
  {
   "cell_type": "markdown",
   "id": "e1a35a8b",
   "metadata": {},
   "source": [
    " Answer- To find the indices of the two numbers in the given array that add up to the target, you can use a two-pointer approach. Here's the solution in Python:"
   ]
  },
  {
   "cell_type": "code",
   "execution_count": 2,
   "id": "fc55a746",
   "metadata": {},
   "outputs": [
    {
     "name": "stdout",
     "output_type": "stream",
     "text": [
      "[0, 1]\n"
     ]
    }
   ],
   "source": [
    "def twoSum(nums, target):\n",
    "    # Create a dictionary to store the complement of each number and its index\n",
    "    complement_dict = {}\n",
    "    \n",
    "    for i, num in enumerate(nums):\n",
    "        complement = target - num\n",
    "        \n",
    "        # If the complement is in the dictionary, we found the pair\n",
    "        if complement in complement_dict:\n",
    "            return [complement_dict[complement], i]\n",
    "        \n",
    "        # Store the current number and its index in the dictionary\n",
    "        complement_dict[num] = i\n",
    "    \n",
    "    # If no pair is found, return an empty list\n",
    "    return []\n",
    "\n",
    "# Example usage\n",
    "nums = [2, 7, 11, 15]\n",
    "target = 9\n",
    "result = twoSum(nums, target)\n",
    "print(result)  # Output: [0, 1]\n"
   ]
  },
  {
   "cell_type": "markdown",
   "id": "78d69cb8",
   "metadata": {},
   "source": [
    "The solution maintains a dictionary to store the complement of each number encountered so far. It iterates through the array, and for each number, it checks if its complement is already in the dictionary. If it is, that means we have found the pair, and we return the indices. Otherwise, we store the current number and its index in the dictionary. If no pair is found, an empty list is returned.\n",
    "\n",
    "In the example provided, the output is [0, 1] because nums[0] + nums[1] equals 9."
   ]
  },
  {
   "cell_type": "markdown",
   "id": "bb59e193",
   "metadata": {},
   "source": [
    "💡 **Q2.** Given an integer array nums and an integer val, remove all occurrences of val in nums in-place. The order of the elements may be changed. Then return the number of elements in nums which are not equal to val.\n",
    "\n",
    "Consider the number of elements in nums which are not equal to val be k, to get accepted, you need to do the following things:\n",
    "\n",
    "- Change the array nums such that the first k elements of nums contain the elements which are not equal to val. The remaining elements of nums are not important as well as the size of nums.\n",
    "- Return k.\n",
    "\n",
    "**Example :**\n",
    "Input: nums = [3,2,2,3], val = 3\n",
    "Output: 2, nums = [2,2,_*,_*]\n",
    "\n",
    "**Explanation:** Your function should return k = 2, with the first two elements of nums being 2. It does not matter what you leave beyond the returned k (hence they are underscores)["
   ]
  },
  {
   "cell_type": "markdown",
   "id": "3ca13c64",
   "metadata": {},
   "source": [
    "Answer- \n",
    "To remove all occurrences of a given value in an array in-place and return the number of elements remaining, you can use a two-pointer approach. Here's the solution in Python:"
   ]
  },
  {
   "cell_type": "code",
   "execution_count": 1,
   "id": "31294bfb",
   "metadata": {},
   "outputs": [
    {
     "name": "stdout",
     "output_type": "stream",
     "text": [
      "2\n",
      "[2, 2, 2, 3]\n"
     ]
    }
   ],
   "source": [
    "def removeElement(nums, val):\n",
    "    # Initialize two pointers: one for iterating the array, and another for\n",
    "    # keeping track of the index where non-val elements should be placed\n",
    "    i = 0\n",
    "    k = 0\n",
    "    \n",
    "    while i < len(nums):\n",
    "        if nums[i] != val:\n",
    "            nums[k] = nums[i]\n",
    "            k += 1\n",
    "        i += 1\n",
    "    \n",
    "    return k\n",
    "\n",
    "# Example usage\n",
    "nums = [3, 2, 2, 3]\n",
    "val = 3\n",
    "result = removeElement(nums, val)\n",
    "print(result)  # Output: 2\n",
    "print(nums)    # Output: [2, 2, _, _]\n"
   ]
  },
  {
   "cell_type": "markdown",
   "id": "9d75ba1f",
   "metadata": {},
   "source": [
    "In this solution, we use two pointers: i and k. The pointer i iterates through the array, and when it encounters a value that is not equal to val, it places that value at index k and increments k. In other words, k keeps track of the index where non-val elements should be placed. By the end of the loop, all non-val elements have been placed at the beginning of the array. The remaining elements beyond index k are not important and will be overwritten in subsequent operations.\n",
    "\n",
    "In the example provided, the output is 2 because there are two elements in nums that are not equal to 3. The modified nums array becomes [2, 2, _, _], where _ represents any value as those positions are not important."
   ]
  },
  {
   "cell_type": "markdown",
   "id": "3b0c520c",
   "metadata": {},
   "source": [
    " **Q3.** Given a sorted array of distinct integers and a target value, return the index if the target is found. If not, return the index where it would be if it were inserted in order.\n",
    "\n",
    "You must write an algorithm with O(log n) runtime complexity.\n",
    "\n",
    "**Example 1:**\n",
    "Input: nums = [1,3,5,6], target = 5\n",
    "\n",
    "Output: 2\n"
   ]
  },
  {
   "cell_type": "markdown",
   "id": "c67308a8",
   "metadata": {},
   "source": [
    "To find the index where a target value should be inserted in a sorted array of distinct integers, you can use a binary search algorithm. Here's the solution in Python:"
   ]
  },
  {
   "cell_type": "code",
   "execution_count": 3,
   "id": "c796f7b8",
   "metadata": {},
   "outputs": [
    {
     "name": "stdout",
     "output_type": "stream",
     "text": [
      "2\n"
     ]
    }
   ],
   "source": [
    "def searchInsert(nums, target):\n",
    "    left = 0\n",
    "    right = len(nums) - 1\n",
    "    \n",
    "    while left <= right:\n",
    "        mid = (left + right) // 2\n",
    "        \n",
    "        if nums[mid] == target:\n",
    "            return mid\n",
    "        elif nums[mid] < target:\n",
    "            left = mid + 1\n",
    "        else:\n",
    "            right = mid - 1\n",
    "    \n",
    "    return left\n",
    "\n",
    "# Example usage\n",
    "nums = [1, 3, 5, 6]\n",
    "target = 5\n",
    "result = searchInsert(nums, target)\n",
    "print(result)  # Output: 2\n"
   ]
  },
  {
   "cell_type": "markdown",
   "id": "2ee8a4ea",
   "metadata": {},
   "source": [
    "In this solution, we initialize two pointers: left and right. The left pointer starts at the beginning of the array, and the right pointer starts at the end of the array. We continue the binary search as long as left is less than or equal to right. In each iteration, we calculate the middle index mid and compare the value at that index with the target.\n",
    "\n",
    "If the value at mid is equal to the target, we have found the target, and we return the index mid.\n",
    "If the value at mid is less than the target, we update left to be mid + 1 to search the right half of the array.\n",
    "If the value at mid is greater than the target, we update right to be mid - 1 to search the left half of the array.\n",
    "If the loop finishes without finding the target, we return the value of left, which represents the index where the target should be inserted to maintain the sorted order.\n",
    "\n",
    "In the example provided, the output is 2 because the target value 5 is found at index 2 in the array [1, 3, 5, 6]."
   ]
  },
  {
   "cell_type": "markdown",
   "id": "eebf0c56",
   "metadata": {},
   "source": [
    "\n",
    "💡 **Q4.** You are given a large integer represented as an integer array digits, where each digits[i] is the ith digit of the integer. The digits are ordered from most significant to least significant in left-to-right order. The large integer does not contain any leading 0's.\n",
    "\n",
    "Increment the large integer by one and return the resulting array of digits.\n",
    "\n",
    "**Example 1:**\n",
    "Input: digits = [1,2,3]\n",
    "Output: [1,2,4]\n",
    "\n",
    "**Explanation:** The array represents the integer 123.\n",
    "\n",
    "Incrementing by one gives 123 + 1 = 124.\n",
    "Thus, the result should be [1,2,4]."
   ]
  },
  {
   "cell_type": "markdown",
   "id": "c0ef9dcb",
   "metadata": {},
   "source": [
    "ANS- To increment a large integer represented as an array of digits, you can simulate the addition operation starting from the least significant digit. Here's the solution in Python:"
   ]
  },
  {
   "cell_type": "code",
   "execution_count": 4,
   "id": "d812e63e",
   "metadata": {},
   "outputs": [
    {
     "name": "stdout",
     "output_type": "stream",
     "text": [
      "[1, 2, 4]\n"
     ]
    }
   ],
   "source": [
    "def plusOne(digits):\n",
    "    n = len(digits)\n",
    "    carry = 1  # Start with a carry of 1\n",
    "    \n",
    "    for i in range(n - 1, -1, -1):\n",
    "        sum = digits[i] + carry\n",
    "        \n",
    "        # Update the current digit\n",
    "        digits[i] = sum % 10\n",
    "        \n",
    "        # Update the carry\n",
    "        carry = sum // 10\n",
    "    \n",
    "    # If there's still a carry after the loop, insert it at the beginning\n",
    "    if carry:\n",
    "        digits.insert(0, carry)\n",
    "    \n",
    "    return digits\n",
    "\n",
    "# Example usage\n",
    "digits = [1, 2, 3]\n",
    "result = plusOne(digits)\n",
    "print(result)  # Output: [1, 2, 4]\n"
   ]
  },
  {
   "cell_type": "markdown",
   "id": "0055da61",
   "metadata": {},
   "source": [
    "In this solution, we start by initializing a carry value of 1. We iterate through the digits of the array in reverse order using a loop. In each iteration, we add the current digit and the carry value. We update the current digit to be the sum modulo 10, which gives us the digit at that position. We update the carry value to be the sum divided by 10, which gives us the carry for the next iteration.\n",
    "\n",
    "After the loop finishes, if there is still a carry value remaining, we insert it at the beginning of the array using the insert() method.\n",
    "\n",
    "In the example provided, the output is [1, 2, 4] because the array [1, 2, 3] represents the integer 123, and incrementing it by one gives 123 + 1 = 124."
   ]
  },
  {
   "cell_type": "markdown",
   "id": "4ac67175",
   "metadata": {},
   "source": [
    "\n",
    "💡 **Q5.** You are given two integer arrays nums1 and nums2, sorted in non-decreasing order, and two integers m and n, representing the number of elements in nums1 and nums2 respectively.\n",
    "\n",
    "Merge nums1 and nums2 into a single array sorted in non-decreasing order.\n",
    "\n",
    "The final sorted array should not be returned by the function, but instead be stored inside the array nums1. To accommodate this, nums1 has a length of m + n, where the first m elements denote the elements that should be merged, and the last n elements are set to 0 and should be ignored. nums2 has a length of n.\n",
    "\n",
    "**Example 1:**\n",
    "Input: nums1 = [1,2,3,0,0,0], m = 3, nums2 = [2,5,6], n = 3\n",
    "Output: [1,2,2,3,5,6]\n",
    "\n",
    "**Explanation:** The arrays we are merging are [1,2,3] and [2,5,6].\n",
    "The result of the merge is [1,2,2,3,5,6] with the underlined elements coming from nums1."
   ]
  },
  {
   "cell_type": "markdown",
   "id": "9517bb08",
   "metadata": {},
   "source": [
    "Ans - To merge two sorted arrays into a single sorted array, you can use the merge operation from the merge sort algorithm. Since nums1 already has the required space to accommodate the merged array, you can perform an in-place merge by starting from the end of the arrays and comparing the elements. Here's the solution in Python:"
   ]
  },
  {
   "cell_type": "code",
   "execution_count": 5,
   "id": "13d16d9c",
   "metadata": {},
   "outputs": [
    {
     "name": "stdout",
     "output_type": "stream",
     "text": [
      "[1, 2, 2, 3, 5, 6]\n"
     ]
    }
   ],
   "source": [
    "def merge(nums1, m, nums2, n):\n",
    "    # Initialize pointers for nums1, nums2, and the merged array\n",
    "    p1 = m - 1\n",
    "    p2 = n - 1\n",
    "    p = m + n - 1\n",
    "    \n",
    "    while p1 >= 0 and p2 >= 0:\n",
    "        if nums1[p1] > nums2[p2]:\n",
    "            nums1[p] = nums1[p1]\n",
    "            p1 -= 1\n",
    "        else:\n",
    "            nums1[p] = nums2[p2]\n",
    "            p2 -= 1\n",
    "        p -= 1\n",
    "    \n",
    "    # Copy the remaining elements from nums2 if any\n",
    "    nums1[:p2 + 1] = nums2[:p2 + 1]\n",
    "    \n",
    "    return nums1\n",
    "\n",
    "# Example usage\n",
    "nums1 = [1, 2, 3, 0, 0, 0]\n",
    "m = 3\n",
    "nums2 = [2, 5, 6]\n",
    "n = 3\n",
    "result = merge(nums1, m, nums2, n)\n",
    "print(result)  # Output: [1, 2, 2, 3, 5, 6]\n"
   ]
  },
  {
   "cell_type": "markdown",
   "id": "11d79305",
   "metadata": {},
   "source": [
    "In this solution, we initialize three pointers: p1 for nums1, p2 for nums2, and p for the merged array. We start from the end of the arrays and compare the elements at p1 and p2. If the element at nums1[p1] is greater than the element at nums2[p2], we place it at nums1[p] and decrement p1. Otherwise, we place the element at nums2[p2] at nums1[p] and decrement p2. We then decrement p to move to the next position in the merged array.\n",
    "\n",
    "After the loop finishes, if there are any remaining elements in nums2, we copy them to the beginning of nums1 using list slicing.\n",
    "\n",
    "In the example provided, the output is [1, 2, 2, 3, 5, 6] because we merge the arrays [1, 2, 3] and [2, 5, 6], resulting in the merged array [1, 2, 2, 3, 5, 6]."
   ]
  },
  {
   "cell_type": "markdown",
   "id": "3e5d7295",
   "metadata": {},
   "source": [
    "\n",
    "💡 **Q6.** Given an integer array nums, return true if any value appears at least twice in the array, and return false if every element is distinct.\n",
    "\n",
    "**Example 1:**\n",
    "Input: nums = [1,2,3,1]\n",
    "\n",
    "Output: true\n"
   ]
  },
  {
   "cell_type": "code",
   "execution_count": 7,
   "id": "872a5240",
   "metadata": {},
   "outputs": [
    {
     "name": "stdout",
     "output_type": "stream",
     "text": [
      "True\n"
     ]
    }
   ],
   "source": [
    "def containsDuplicate(nums):\n",
    "    num_set = set()\n",
    "    \n",
    "    for num in nums:\n",
    "        if num in num_set:\n",
    "            return True\n",
    "        num_set.add(num)\n",
    "    \n",
    "    return False\n",
    "\n",
    "# Example usage\n",
    "nums = [1, 2, 3, 1]\n",
    "result = containsDuplicate(nums)\n",
    "print(result)  # Output: True\n",
    "\n"
   ]
  },
  {
   "cell_type": "markdown",
   "id": "94b7cef2",
   "metadata": {},
   "source": [
    "\n",
    "💡 **Q7.** Given an integer array nums, move all 0's to the end of it while maintaining the relative order of the nonzero elements.\n",
    "\n",
    "Note that you must do this in-place without making a copy of the array.\n",
    "\n",
    "**Example 1:**\n",
    "Input: nums = [0,1,0,3,12]\n",
    "Output: [1,3,12,0,0]"
   ]
  },
  {
   "cell_type": "code",
   "execution_count": 8,
   "id": "22df918d",
   "metadata": {},
   "outputs": [
    {
     "name": "stdout",
     "output_type": "stream",
     "text": [
      "[1, 3, 12, 0, 0]\n"
     ]
    }
   ],
   "source": [
    "def moveZeroes(nums):\n",
    "    # Initialize a pointer to keep track of the position to insert non-zero elements\n",
    "    insert_pos = 0\n",
    "    \n",
    "    # Iterate through the array and move non-zero elements to the left side\n",
    "    for num in nums:\n",
    "        if num != 0:\n",
    "            nums[insert_pos] = num\n",
    "            insert_pos += 1\n",
    "    \n",
    "    # Fill the remaining positions with zeros\n",
    "    for i in range(insert_pos, len(nums)):\n",
    "        nums[i] = 0\n",
    "    \n",
    "    return nums\n",
    "\n",
    "# Example usage\n",
    "nums = [0, 1, 0, 3, 12]\n",
    "result = moveZeroes(nums)\n",
    "print(result)  # Output: [1, 3, 12, 0, 0]\n"
   ]
  },
  {
   "cell_type": "markdown",
   "id": "4862724b",
   "metadata": {},
   "source": [
    "\n",
    "💡 **Q8.** You have a set of integers s, which originally contains all the numbers from 1 to n. Unfortunately, due to some error, one of the numbers in s got duplicated to another number in the set, which results in repetition of one number and loss of another number.\n",
    "\n",
    "You are given an integer array nums representing the data status of this set after the error.\n",
    "\n",
    "Find the number that occurs twice and the number that is missing and return them in the form of an array.\n",
    "\n",
    "**Example 1:**\n",
    "Input: nums = [1,2,2,4]\n",
    "Output: [2,3]\n"
   ]
  },
  {
   "cell_type": "code",
   "execution_count": 9,
   "id": "6b77be68",
   "metadata": {},
   "outputs": [
    {
     "name": "stdout",
     "output_type": "stream",
     "text": [
      "[2, 3]\n"
     ]
    }
   ],
   "source": [
    "def findErrorNums(nums):\n",
    "    n = len(nums)\n",
    "    num_set = set()\n",
    "    duplicate = -1\n",
    "    \n",
    "    # Find the duplicate number\n",
    "    for num in nums:\n",
    "        if num in num_set:\n",
    "            duplicate = num\n",
    "        num_set.add(num)\n",
    "    \n",
    "    # Find the missing number\n",
    "    missing = -1\n",
    "    for i in range(1, n+1):\n",
    "        if i not in num_set:\n",
    "            missing = i\n",
    "            break\n",
    "    \n",
    "    return [duplicate, missing]\n",
    "\n",
    "# Example usage\n",
    "nums = [1, 2, 2, 4]\n",
    "result = findErrorNums(nums)\n",
    "print(result)  # Output: [2, 3]\n"
   ]
  },
  {
   "cell_type": "code",
   "execution_count": null,
   "id": "008d86ad",
   "metadata": {},
   "outputs": [],
   "source": []
  }
 ],
 "metadata": {
  "kernelspec": {
   "display_name": "Python 3 (ipykernel)",
   "language": "python",
   "name": "python3"
  },
  "language_info": {
   "codemirror_mode": {
    "name": "ipython",
    "version": 3
   },
   "file_extension": ".py",
   "mimetype": "text/x-python",
   "name": "python",
   "nbconvert_exporter": "python",
   "pygments_lexer": "ipython3",
   "version": "3.9.12"
  }
 },
 "nbformat": 4,
 "nbformat_minor": 5
}
